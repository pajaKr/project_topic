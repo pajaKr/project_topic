{
 "cells": [
  {
   "cell_type": "markdown",
   "id": "8a37b2f2",
   "metadata": {},
   "source": [
    "# Project Topic Proposal"
   ]
  },
  {
   "cell_type": "code",
   "execution_count": 1,
   "id": "fb2e3b38",
   "metadata": {},
   "outputs": [],
   "source": [
    "import requests\n",
    "from bs4 import BeautifulSoup\n",
    "from time import sleep\n",
    "import pandas as pd"
   ]
  },
  {
   "cell_type": "code",
   "execution_count": 2,
   "id": "c2e005a3",
   "metadata": {},
   "outputs": [
    {
     "data": {
      "text/plain": [
       "<Response [200]>"
      ]
     },
     "execution_count": 2,
     "metadata": {},
     "output_type": "execute_result"
    }
   ],
   "source": [
    "requests.get('http://nhl.cz//robots.txt')"
   ]
  },
  {
   "cell_type": "code",
   "execution_count": 3,
   "id": "d40c6848",
   "metadata": {},
   "outputs": [
    {
     "name": "stdout",
     "output_type": "stream",
     "text": [
      "\n"
     ]
    }
   ],
   "source": [
    "print(requests.get('http://nhl.cz//robots.txt').text)"
   ]
  },
  {
   "cell_type": "markdown",
   "id": "0e6b329e",
   "metadata": {},
   "source": [
    "### Getting the data"
   ]
  },
  {
   "cell_type": "code",
   "execution_count": 4,
   "id": "a48151f4",
   "metadata": {},
   "outputs": [],
   "source": [
    "def getSoup(link):\n",
    "    sleep(0.1)\n",
    "    r = requests.get(link)\n",
    "    return BeautifulSoup(r.text,'lxml')"
   ]
  },
  {
   "cell_type": "code",
   "execution_count": 5,
   "id": "019cedb3",
   "metadata": {},
   "outputs": [],
   "source": [
    "#just showing we can get the data - \n",
    "#downloading just some seasons and just one team for now\n",
    "years = ['2014','2015','2016','2017','2018']\n",
    "team = \"montreal-canadiens\"\n",
    "montreal_points = []"
   ]
  },
  {
   "cell_type": "code",
   "execution_count": 6,
   "id": "6e4a5c5a",
   "metadata": {},
   "outputs": [],
   "source": [
    "for year in years:\n",
    "    x = getSoup(f'https://nhl.cz/sezona/table?table-filter-season={year}')\n",
    "    one_team = x.find(\"td\", {\"data-sort-value\" : team}).parent\n",
    "    points_this_season = one_team.find(\"td\", {\"class\" : \"sorting-by\"})\n",
    "    montreal_points.append(int(points_this_season.text.strip()))"
   ]
  },
  {
   "cell_type": "code",
   "execution_count": 7,
   "id": "87678731",
   "metadata": {},
   "outputs": [
    {
     "data": {
      "text/html": [
       "<div>\n",
       "<style scoped>\n",
       "    .dataframe tbody tr th:only-of-type {\n",
       "        vertical-align: middle;\n",
       "    }\n",
       "\n",
       "    .dataframe tbody tr th {\n",
       "        vertical-align: top;\n",
       "    }\n",
       "\n",
       "    .dataframe thead th {\n",
       "        text-align: right;\n",
       "    }\n",
       "</style>\n",
       "<table border=\"1\" class=\"dataframe\">\n",
       "  <thead>\n",
       "    <tr style=\"text-align: right;\">\n",
       "      <th></th>\n",
       "      <th>montreal-canadiens</th>\n",
       "    </tr>\n",
       "  </thead>\n",
       "  <tbody>\n",
       "    <tr>\n",
       "      <th>2014</th>\n",
       "      <td>110</td>\n",
       "    </tr>\n",
       "    <tr>\n",
       "      <th>2015</th>\n",
       "      <td>82</td>\n",
       "    </tr>\n",
       "    <tr>\n",
       "      <th>2016</th>\n",
       "      <td>103</td>\n",
       "    </tr>\n",
       "    <tr>\n",
       "      <th>2017</th>\n",
       "      <td>71</td>\n",
       "    </tr>\n",
       "    <tr>\n",
       "      <th>2018</th>\n",
       "      <td>96</td>\n",
       "    </tr>\n",
       "  </tbody>\n",
       "</table>\n",
       "</div>"
      ],
      "text/plain": [
       "      montreal-canadiens\n",
       "2014                 110\n",
       "2015                  82\n",
       "2016                 103\n",
       "2017                  71\n",
       "2018                  96"
      ]
     },
     "execution_count": 7,
     "metadata": {},
     "output_type": "execute_result"
    }
   ],
   "source": [
    "df = pd.DataFrame(montreal_points,index=years)\n",
    "df.columns = [team]\n",
    "df"
   ]
  },
  {
   "cell_type": "code",
   "execution_count": 8,
   "id": "3ba4b4c2",
   "metadata": {},
   "outputs": [
    {
     "data": {
      "text/plain": [
       "<AxesSubplot:>"
      ]
     },
     "execution_count": 8,
     "metadata": {},
     "output_type": "execute_result"
    },
    {
     "data": {
      "image/png": "[encoded data removed]",
      "text/plain": [
       "<Figure size 432x288 with 1 Axes>"
      ]
     },
     "metadata": {
      "needs_background": "light"
     },
     "output_type": "display_data"
    }
   ],
   "source": [
    "df.plot()"
   ]
  }
 ],
 "metadata": {
  "kernelspec": {
   "display_name": "Python 3 (ipykernel)",
   "language": "python",
   "name": "python3"
  },
  "language_info": {
   "codemirror_mode": {
    "name": "ipython",
    "version": 3
   },
   "file_extension": ".py",
   "mimetype": "text/x-python",
   "name": "python",
   "nbconvert_exporter": "python",
   "pygments_lexer": "ipython3",
   "version": "3.8.12"
  }
 },
 "nbformat": 4,
 "nbformat_minor": 5
}
